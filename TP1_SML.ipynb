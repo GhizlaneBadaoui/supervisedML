{
 "cells": [
  {
   "cell_type": "code",
   "execution_count": 41,
   "metadata": {},
   "outputs": [],
   "source": [
    "import pandas as pd\n",
    "import numpy as np\n",
    "from sklearn.utils import shuffle\n",
    "from sklearn.svm import SVR\n",
    "from sklearn.model_selection import train_test_split, cross_val_score\n",
    "from sklearn.preprocessing import StandardScaler\n",
    "from sklearn.ensemble import RandomForestClassifier, AdaBoostClassifier, GradientBoostingClassifier\n",
    "from sklearn.metrics import accuracy_score, classification_report, confusion_matrix\n",
    "import matplotlib.pyplot as plt\n",
    "from sklearn.metrics import ConfusionMatrixDisplay\n",
    "from sklearn.model_selection import GridSearchCV\n",
    "import warnings\n",
    "warnings.filterwarnings('ignore')"
   ]
  },
  {
   "cell_type": "code",
   "execution_count": 2,
   "metadata": {},
   "outputs": [
    {
     "data": {
      "text/html": [
       "<div>\n",
       "<style scoped>\n",
       "    .dataframe tbody tr th:only-of-type {\n",
       "        vertical-align: middle;\n",
       "    }\n",
       "\n",
       "    .dataframe tbody tr th {\n",
       "        vertical-align: top;\n",
       "    }\n",
       "\n",
       "    .dataframe thead th {\n",
       "        text-align: right;\n",
       "    }\n",
       "</style>\n",
       "<table border=\"1\" class=\"dataframe\">\n",
       "  <thead>\n",
       "    <tr style=\"text-align: right;\">\n",
       "      <th></th>\n",
       "      <th>AGEP</th>\n",
       "      <th>COW</th>\n",
       "      <th>SCHL</th>\n",
       "      <th>MAR</th>\n",
       "      <th>OCCP</th>\n",
       "      <th>POBP</th>\n",
       "      <th>RELP</th>\n",
       "      <th>WKHP</th>\n",
       "      <th>SEX</th>\n",
       "      <th>RAC1P</th>\n",
       "    </tr>\n",
       "  </thead>\n",
       "  <tbody>\n",
       "    <tr>\n",
       "      <th>0</th>\n",
       "      <td>30.0</td>\n",
       "      <td>6.0</td>\n",
       "      <td>14.0</td>\n",
       "      <td>1.0</td>\n",
       "      <td>9610.0</td>\n",
       "      <td>6.0</td>\n",
       "      <td>16.0</td>\n",
       "      <td>40.0</td>\n",
       "      <td>1.0</td>\n",
       "      <td>8.0</td>\n",
       "    </tr>\n",
       "    <tr>\n",
       "      <th>1</th>\n",
       "      <td>21.0</td>\n",
       "      <td>4.0</td>\n",
       "      <td>16.0</td>\n",
       "      <td>5.0</td>\n",
       "      <td>1970.0</td>\n",
       "      <td>6.0</td>\n",
       "      <td>17.0</td>\n",
       "      <td>20.0</td>\n",
       "      <td>1.0</td>\n",
       "      <td>1.0</td>\n",
       "    </tr>\n",
       "    <tr>\n",
       "      <th>2</th>\n",
       "      <td>65.0</td>\n",
       "      <td>2.0</td>\n",
       "      <td>22.0</td>\n",
       "      <td>5.0</td>\n",
       "      <td>2040.0</td>\n",
       "      <td>6.0</td>\n",
       "      <td>17.0</td>\n",
       "      <td>8.0</td>\n",
       "      <td>1.0</td>\n",
       "      <td>1.0</td>\n",
       "    </tr>\n",
       "    <tr>\n",
       "      <th>3</th>\n",
       "      <td>33.0</td>\n",
       "      <td>1.0</td>\n",
       "      <td>14.0</td>\n",
       "      <td>3.0</td>\n",
       "      <td>9610.0</td>\n",
       "      <td>36.0</td>\n",
       "      <td>16.0</td>\n",
       "      <td>40.0</td>\n",
       "      <td>1.0</td>\n",
       "      <td>1.0</td>\n",
       "    </tr>\n",
       "    <tr>\n",
       "      <th>4</th>\n",
       "      <td>18.0</td>\n",
       "      <td>2.0</td>\n",
       "      <td>19.0</td>\n",
       "      <td>5.0</td>\n",
       "      <td>1021.0</td>\n",
       "      <td>6.0</td>\n",
       "      <td>17.0</td>\n",
       "      <td>18.0</td>\n",
       "      <td>2.0</td>\n",
       "      <td>1.0</td>\n",
       "    </tr>\n",
       "  </tbody>\n",
       "</table>\n",
       "</div>"
      ],
      "text/plain": [
       "   AGEP  COW  SCHL  MAR    OCCP  POBP  RELP  WKHP  SEX  RAC1P\n",
       "0  30.0  6.0  14.0  1.0  9610.0   6.0  16.0  40.0  1.0    8.0\n",
       "1  21.0  4.0  16.0  5.0  1970.0   6.0  17.0  20.0  1.0    1.0\n",
       "2  65.0  2.0  22.0  5.0  2040.0   6.0  17.0   8.0  1.0    1.0\n",
       "3  33.0  1.0  14.0  3.0  9610.0  36.0  16.0  40.0  1.0    1.0\n",
       "4  18.0  2.0  19.0  5.0  1021.0   6.0  17.0  18.0  2.0    1.0"
      ]
     },
     "execution_count": 2,
     "metadata": {},
     "output_type": "execute_result"
    }
   ],
   "source": [
    "features_path = \"acsincome_ca_features.csv\"\n",
    "label_path = \"acsincome_ca_labels.csv\"\n",
    "\n",
    "X = pd.read_csv(\"acsincome_ca_features.csv\")\n",
    "y = pd.read_csv(\"acsincome_ca_labels.csv\")\n",
    "X.head()"
   ]
  },
  {
   "cell_type": "code",
   "execution_count": 3,
   "metadata": {},
   "outputs": [
    {
     "name": "stdout",
     "output_type": "stream",
     "text": [
      "(19566, 10)\n"
     ]
    }
   ],
   "source": [
    "X, y = shuffle(X, y, random_state=1)\n",
    "\n",
    "# only use the first N samples to limit training time\n",
    "num_samples = int(len(X)*0.1)\n",
    "X, y = X[:num_samples], y[:num_samples]\n",
    "print(X.shape)"
   ]
  },
  {
   "cell_type": "code",
   "execution_count": 4,
   "metadata": {},
   "outputs": [],
   "source": [
    "# Standrize the data\n",
    "scaler = StandardScaler()\n",
    "scaler.fit_transform(X)\n",
    "# Split the data\n",
    "X_train, X_test, y_train, y_test = train_test_split(X,y, test_size=0.2)"
   ]
  },
  {
   "cell_type": "code",
   "execution_count": 5,
   "metadata": {},
   "outputs": [
    {
     "name": "stdout",
     "output_type": "stream",
     "text": [
      "\n",
      "************* SVM ********************\n",
      "\n",
      "best hyper-parameters SVM :  {'C': 0.1, 'kernel': 'rbf'}\n"
     ]
    }
   ],
   "source": [
    "print(\"\\n************* SVM ********************\\n\")\n",
    "param_grid_SVC = {\n",
    "    'C': [0.1, 1, 10, 50, 100],\n",
    "    'kernel': ['rbf']\n",
    "}\n",
    "model_svm = SVR()\n",
    "grid_search_SVC = GridSearchCV(estimator=model_svm, param_grid=param_grid_SVC, scoring='accuracy', cv=5)\n",
    "grid_search_SVC.fit(X_train,y_train)\n",
    "best_SVM_model = grid_search_SVC.best_estimator_\n",
    "print(\"best hyper-parameters SVM : \", grid_search_SVC.best_params_)"
   ]
  },
  {
   "cell_type": "code",
   "execution_count": 6,
   "metadata": {},
   "outputs": [
    {
     "name": "stdout",
     "output_type": "stream",
     "text": [
      "\n",
      "************* Random Forest ********************\n",
      "\n",
      "best hyper-parameters Random Forest :  {'max_depth': 10, 'min_samples_leaf': 1, 'min_samples_split': 10, 'n_estimators': 100}\n"
     ]
    }
   ],
   "source": [
    "print(\"\\n************* Random Forest ********************\\n\")\n",
    "param_grid_randomF = {\n",
    "    'n_estimators': [50, 100, 200],\n",
    "    'max_depth': [None, 10, 20, 30],\n",
    "    'min_samples_split': [2, 5, 10],\n",
    "    'min_samples_leaf': [1, 2, 4]\n",
    "}\n",
    "model_randomF = RandomForestClassifier()\n",
    "grid_search_randomF = GridSearchCV(estimator=model_randomF, param_grid=param_grid_randomF, scoring='accuracy', cv=5)\n",
    "grid_search_randomF.fit(X_train,y_train)\n",
    "best_randomF_model = grid_search_randomF.best_estimator_\n",
    "print(\"best hyper-parameters Random Forest : \", grid_search_randomF.best_params_)"
   ]
  },
  {
   "cell_type": "code",
   "execution_count": 7,
   "metadata": {},
   "outputs": [
    {
     "name": "stdout",
     "output_type": "stream",
     "text": [
      "\n",
      "************* Ada Boost ********************\n",
      "\n",
      "best hyper-parameters AdaBoost :  {'learning_rate': 1.0, 'n_estimators': 200}\n"
     ]
    }
   ],
   "source": [
    "print(\"\\n************* Ada Boost ********************\\n\")\n",
    "param_grid_adaboost = {\n",
    "    'n_estimators': [50, 100, 200],                   \n",
    "    'learning_rate': [0.01, 0.1, 1.0, 2.0]\n",
    "    }\n",
    "model_adaBoost = AdaBoostClassifier()\n",
    "grid_search_adaBoost = GridSearchCV(estimator=model_adaBoost, param_grid=param_grid_adaboost, scoring='accuracy', cv=5)\n",
    "grid_search_adaBoost.fit(X_train,y_train)\n",
    "best_adaBoost_model = grid_search_adaBoost.best_estimator_\n",
    "print(\"best hyper-parameters AdaBoost : \", grid_search_adaBoost.best_params_)"
   ]
  },
  {
   "cell_type": "code",
   "execution_count": 8,
   "metadata": {},
   "outputs": [
    {
     "name": "stdout",
     "output_type": "stream",
     "text": [
      "\n",
      "************* Gradient Boosting ********************\n",
      "\n",
      "best hyper-parameters Gradient Boosting :  {'learning_rate': 0.1, 'max_depth': 5, 'n_estimators': 200}\n"
     ]
    }
   ],
   "source": [
    "print(\"\\n************* Gradient Boosting ********************\\n\")\n",
    "param_grid_gradientboost = {\n",
    "    'n_estimators': [50, 100, 200],\n",
    "    'learning_rate': [0.01, 0.1, 1.0],\n",
    "    'max_depth': [3, 5, 7]\n",
    "    }\n",
    "model_GradientBoosting = GradientBoostingClassifier()\n",
    "grid_search_gradientboost = GridSearchCV(estimator=model_GradientBoosting, param_grid=param_grid_gradientboost, scoring='accuracy', cv=5)\n",
    "grid_search_gradientboost.fit(X_train,y_train)\n",
    "best_GradientBoost_model = grid_search_gradientboost.best_estimator_\n",
    "print(\"best hyper-parameters Gradient Boosting : \", grid_search_gradientboost.best_params_)"
   ]
  },
  {
   "cell_type": "code",
   "execution_count": 9,
   "metadata": {},
   "outputs": [
    {
     "name": "stdout",
     "output_type": "stream",
     "text": [
      "SVM \n",
      " 0.07042661620587702\n",
      "Random Forest \n",
      " 0.8088425851757597\n",
      "Ada Boost \n",
      " 0.8132511431087457\n",
      "Gradient Boosting \n",
      " 0.8163817049539646\n"
     ]
    }
   ],
   "source": [
    "print(\"SVM \\n\",cross_val_score(best_SVM_model, X_train,y_train,cv=5).mean())\n",
    "print(\"Random Forest \\n\",cross_val_score(best_randomF_model, X_train,y_train,cv=5).mean())\n",
    "print(\"Ada Boost \\n\",cross_val_score(best_adaBoost_model, X_train,y_train,cv=5).mean())\n",
    "print(\"Gradient Boosting \\n\",cross_val_score(best_GradientBoost_model, X_train,y_train,cv=5).mean())"
   ]
  },
  {
   "cell_type": "code",
   "execution_count": 53,
   "metadata": {},
   "outputs": [],
   "source": [
    "def plot_confusion_matrix(cm, classifier) :\n",
    "    disp = ConfusionMatrixDisplay(confusion_matrix=cm, display_labels = [False, True])\n",
    "    disp.plot(cmap=plt.cm.Blues)\n",
    "    plt.show()"
   ]
  },
  {
   "cell_type": "code",
   "execution_count": 54,
   "metadata": {},
   "outputs": [
    {
     "name": "stdout",
     "output_type": "stream",
     "text": [
      "Accuracy score - SVM :  0.698773633111906\n",
      "Classification report - SVM :\n",
      "                precision    recall  f1-score   support\n",
      "\n",
      "       False       0.70      0.83      0.76      2257\n",
      "        True       0.69      0.52      0.59      1657\n",
      "\n",
      "    accuracy                           0.70      3914\n",
      "   macro avg       0.70      0.68      0.68      3914\n",
      "weighted avg       0.70      0.70      0.69      3914\n",
      "\n",
      "Confusion matrix - SVM : \n"
     ]
    },
    {
     "data": {
      "image/png": "[encoded data removed]",
      "text/plain": [
       "<Figure size 640x480 with 2 Axes>"
      ]
     },
     "metadata": {},
     "output_type": "display_data"
    }
   ],
   "source": [
    "y_pred_svm = best_SVM_model.predict(X_test)\n",
    "accuracy_svm = accuracy_score(y_test, y_pred_svm.round())\n",
    "class_report_svm = classification_report(y_test, y_pred_svm.round())\n",
    "conf_matrix_svm = confusion_matrix(y_test, y_pred_svm.round())\n",
    "\n",
    "print(\"Accuracy score - SVM : \", accuracy_svm)\n",
    "print(\"Classification report - SVM :\\n \", class_report_svm)\n",
    "print(\"Confusion matrix - SVM : \")\n",
    "plot_confusion_matrix(conf_matrix_svm, best_SVM_model)"
   ]
  },
  {
   "cell_type": "code",
   "execution_count": 56,
   "metadata": {},
   "outputs": [
    {
     "name": "stdout",
     "output_type": "stream",
     "text": [
      "Accuracy score - Random Forest :  0.812212570260603\n",
      "Classification report - Random Forest :\n",
      "                precision    recall  f1-score   support\n",
      "\n",
      "       False       0.83      0.85      0.84      2257\n",
      "        True       0.79      0.76      0.77      1657\n",
      "\n",
      "    accuracy                           0.81      3914\n",
      "   macro avg       0.81      0.81      0.81      3914\n",
      "weighted avg       0.81      0.81      0.81      3914\n",
      "\n",
      "Confusion matrix - Random Forest : \n"
     ]
    },
    {
     "data": {
      "image/png": "[encoded data removed]",
      "text/plain": [
       "<Figure size 640x480 with 2 Axes>"
      ]
     },
     "metadata": {},
     "output_type": "display_data"
    }
   ],
   "source": [
    "y_pred_randomF = best_randomF_model.predict(X_test)\n",
    "accuracy_randomF = accuracy_score(y_test, y_pred_randomF.round())\n",
    "class_report_randomF = classification_report(y_test, y_pred_randomF.round())\n",
    "conf_matrix_randomF = confusion_matrix(y_test, y_pred_randomF.round())\n",
    "\n",
    "print(\"Accuracy score - Random Forest : \", accuracy_randomF)\n",
    "print(\"Classification report - Random Forest :\\n \", class_report_randomF)\n",
    "print(\"Confusion matrix - Random Forest : \")\n",
    "plot_confusion_matrix(conf_matrix_randomF, best_randomF_model)"
   ]
  },
  {
   "cell_type": "code",
   "execution_count": 57,
   "metadata": {},
   "outputs": [
    {
     "name": "stdout",
     "output_type": "stream",
     "text": [
      "Accuracy score - Ada Boost :  0.8160449667858968\n",
      "Classification report - Ada Boost :\n",
      "                precision    recall  f1-score   support\n",
      "\n",
      "       False       0.83      0.86      0.84      2257\n",
      "        True       0.79      0.76      0.78      1657\n",
      "\n",
      "    accuracy                           0.82      3914\n",
      "   macro avg       0.81      0.81      0.81      3914\n",
      "weighted avg       0.82      0.82      0.82      3914\n",
      "\n",
      "Confusion matrix - Ada Boost : \n"
     ]
    },
    {
     "data": {
      "image/png": "[encoded data removed]",
      "text/plain": [
       "<Figure size 640x480 with 2 Axes>"
      ]
     },
     "metadata": {},
     "output_type": "display_data"
    }
   ],
   "source": [
    "y_pred_adaBoost = best_adaBoost_model.predict(X_test)\n",
    "accuracy_adaBoost = accuracy_score(y_test, y_pred_adaBoost)\n",
    "class_report_adaBoost = classification_report(y_test, y_pred_adaBoost)\n",
    "conf_matrix_adaBoost = confusion_matrix(y_test, y_pred_adaBoost)\n",
    "\n",
    "print(\"Accuracy score - Ada Boost : \", accuracy_adaBoost)\n",
    "print(\"Classification report - Ada Boost :\\n \", class_report_adaBoost)\n",
    "print(\"Confusion matrix - Ada Boost : \")\n",
    "plot_confusion_matrix(conf_matrix_adaBoost, best_adaBoost_model)"
   ]
  },
  {
   "cell_type": "code",
   "execution_count": 58,
   "metadata": {},
   "outputs": [
    {
     "name": "stdout",
     "output_type": "stream",
     "text": [
      "Accuracy score - Gradient Boosting :  0.8249872253449156\n",
      "Classification report - Gradient Boosting :\n",
      "                precision    recall  f1-score   support\n",
      "\n",
      "       False       0.84      0.86      0.85      2257\n",
      "        True       0.80      0.78      0.79      1657\n",
      "\n",
      "    accuracy                           0.82      3914\n",
      "   macro avg       0.82      0.82      0.82      3914\n",
      "weighted avg       0.82      0.82      0.82      3914\n",
      "\n",
      "Confusion matrix - Gradient Boosting : \n"
     ]
    },
    {
     "data": {
      "image/png": "[encoded data removed]",
      "text/plain": [
       "<Figure size 640x480 with 2 Axes>"
      ]
     },
     "metadata": {},
     "output_type": "display_data"
    }
   ],
   "source": [
    "y_pred_GradientBoost = best_GradientBoost_model.predict(X_test)\n",
    "accuracy_GradientBoost = accuracy_score(y_test, y_pred_GradientBoost)\n",
    "class_report_GradientBoost = classification_report(y_test, y_pred_GradientBoost)\n",
    "conf_matrix_GradientBoost = confusion_matrix(y_test, y_pred_GradientBoost)\n",
    "\n",
    "\n",
    "print(\"Accuracy score - Gradient Boosting : \", accuracy_GradientBoost)\n",
    "print(\"Classification report - Gradient Boosting :\\n \", class_report_GradientBoost)\n",
    "print(\"Confusion matrix - Gradient Boosting : \")\n",
    "plot_confusion_matrix(conf_matrix_GradientBoost, best_GradientBoost_model)"
   ]
  },
  {
   "cell_type": "code",
   "execution_count": 64,
   "metadata": {},
   "outputs": [
    {
     "data": {
      "image/png": "[encoded data removed]",
      "text/plain": [
       "<Figure size 640x480 with 1 Axes>"
      ]
     },
     "metadata": {},
     "output_type": "display_data"
    }
   ],
   "source": [
    "models = ['SVM', 'Random Forest', 'Ada Boost', 'Gradient Boosting']\n",
    "accuracy_scores = [accuracy_svm, accuracy_randomF, accuracy_adaBoost, accuracy_GradientBoost]\n",
    "\n",
    "plt.bar(models, accuracy_scores, color='blue')\n",
    "plt.xlabel('Models')\n",
    "plt.ylabel('Accuracy Score')\n",
    "plt.title('Accuracy Scores for Different Models')\n",
    "plt.ylim(0, 1)  \n",
    "plt.show()"
   ]
  },
  {
   "cell_type": "code",
   "execution_count": 24,
   "metadata": {},
   "outputs": [
    {
     "data": {
      "text/html": [
       "<div>\n",
       "<style scoped>\n",
       "    .dataframe tbody tr th:only-of-type {\n",
       "        vertical-align: middle;\n",
       "    }\n",
       "\n",
       "    .dataframe tbody tr th {\n",
       "        vertical-align: top;\n",
       "    }\n",
       "\n",
       "    .dataframe thead th {\n",
       "        text-align: right;\n",
       "    }\n",
       "</style>\n",
       "<table border=\"1\" class=\"dataframe\">\n",
       "  <thead>\n",
       "    <tr style=\"text-align: right;\">\n",
       "      <th></th>\n",
       "      <th>AGEP</th>\n",
       "      <th>COW</th>\n",
       "      <th>SCHL</th>\n",
       "      <th>MAR</th>\n",
       "      <th>OCCP</th>\n",
       "      <th>POBP</th>\n",
       "      <th>RELP</th>\n",
       "      <th>WKHP</th>\n",
       "      <th>SEX</th>\n",
       "      <th>RAC1P</th>\n",
       "    </tr>\n",
       "  </thead>\n",
       "  <tbody>\n",
       "    <tr>\n",
       "      <th>0</th>\n",
       "      <td>19.0</td>\n",
       "      <td>2.0</td>\n",
       "      <td>19.0</td>\n",
       "      <td>5.0</td>\n",
       "      <td>2850.0</td>\n",
       "      <td>6.0</td>\n",
       "      <td>17.0</td>\n",
       "      <td>2.0</td>\n",
       "      <td>2.0</td>\n",
       "      <td>9.0</td>\n",
       "    </tr>\n",
       "    <tr>\n",
       "      <th>1</th>\n",
       "      <td>24.0</td>\n",
       "      <td>5.0</td>\n",
       "      <td>18.0</td>\n",
       "      <td>5.0</td>\n",
       "      <td>9645.0</td>\n",
       "      <td>13.0</td>\n",
       "      <td>17.0</td>\n",
       "      <td>40.0</td>\n",
       "      <td>1.0</td>\n",
       "      <td>2.0</td>\n",
       "    </tr>\n",
       "    <tr>\n",
       "      <th>2</th>\n",
       "      <td>22.0</td>\n",
       "      <td>1.0</td>\n",
       "      <td>19.0</td>\n",
       "      <td>5.0</td>\n",
       "      <td>1520.0</td>\n",
       "      <td>53.0</td>\n",
       "      <td>17.0</td>\n",
       "      <td>45.0</td>\n",
       "      <td>2.0</td>\n",
       "      <td>1.0</td>\n",
       "    </tr>\n",
       "    <tr>\n",
       "      <th>3</th>\n",
       "      <td>32.0</td>\n",
       "      <td>1.0</td>\n",
       "      <td>16.0</td>\n",
       "      <td>1.0</td>\n",
       "      <td>4055.0</td>\n",
       "      <td>8.0</td>\n",
       "      <td>16.0</td>\n",
       "      <td>40.0</td>\n",
       "      <td>2.0</td>\n",
       "      <td>1.0</td>\n",
       "    </tr>\n",
       "    <tr>\n",
       "      <th>4</th>\n",
       "      <td>19.0</td>\n",
       "      <td>2.0</td>\n",
       "      <td>19.0</td>\n",
       "      <td>5.0</td>\n",
       "      <td>2006.0</td>\n",
       "      <td>34.0</td>\n",
       "      <td>17.0</td>\n",
       "      <td>9.0</td>\n",
       "      <td>2.0</td>\n",
       "      <td>1.0</td>\n",
       "    </tr>\n",
       "  </tbody>\n",
       "</table>\n",
       "</div>"
      ],
      "text/plain": [
       "   AGEP  COW  SCHL  MAR    OCCP  POBP  RELP  WKHP  SEX  RAC1P\n",
       "0  19.0  2.0  19.0  5.0  2850.0   6.0  17.0   2.0  2.0    9.0\n",
       "1  24.0  5.0  18.0  5.0  9645.0  13.0  17.0  40.0  1.0    2.0\n",
       "2  22.0  1.0  19.0  5.0  1520.0  53.0  17.0  45.0  2.0    1.0\n",
       "3  32.0  1.0  16.0  1.0  4055.0   8.0  16.0  40.0  2.0    1.0\n",
       "4  19.0  2.0  19.0  5.0  2006.0  34.0  17.0   9.0  2.0    1.0"
      ]
     },
     "execution_count": 24,
     "metadata": {},
     "output_type": "execute_result"
    }
   ],
   "source": [
    "# Colorado\n",
    "X_co = pd.read_csv(\"acsincome_co_allfeaturesTP2.csv\")\n",
    "y_co = pd.read_csv(\"acsincome_co_labelTP2.csv\")\n",
    "\n",
    "X_ne, y_co = shuffle(X_co, y_co, random_state=1)\n",
    "\n",
    "# only use the first N samples to limit training time\n",
    "num_samples_ = int(len(X_co)*0.1)\n",
    "X_co, y_co = X_co[:num_samples], y_co[:num_samples]\n",
    "\n",
    "# Standrize the data\n",
    "scaler_co = StandardScaler()\n",
    "scaler_co.fit_transform(X_co)\n",
    "\n",
    "X_co.head()\n"
   ]
  },
  {
   "cell_type": "code",
   "execution_count": 59,
   "metadata": {},
   "outputs": [
    {
     "name": "stdout",
     "output_type": "stream",
     "text": [
      "Accuracy score - SVM :  0.5315854032505366\n",
      "Classification report - SVM :\n",
      "                precision    recall  f1-score   support\n",
      "\n",
      "           0       0.59      0.65      0.62     11480\n",
      "           1       0.42      0.36      0.39      8086\n",
      "\n",
      "    accuracy                           0.53     19566\n",
      "   macro avg       0.51      0.51      0.50     19566\n",
      "weighted avg       0.52      0.53      0.52     19566\n",
      "\n",
      "Confusion matrix - SVM :\n",
      "  [[7471 4009]\n",
      " [5156 2930]]\n"
     ]
    }
   ],
   "source": [
    "################# SVM ##################################################################################################\n",
    "y_pred_SVM = best_SVM_model.predict(X_co)\n",
    "accuracy_SVM = accuracy_score(y_co, y_pred_SVM.round())\n",
    "class_report_SVM = classification_report(y_co, y_pred_SVM.round())\n",
    "conf_matrix_SVM = confusion_matrix(y_co, y_pred_SVM.round())\n",
    "\n",
    "print(\"Accuracy score - SVM : \", accuracy_SVM)\n",
    "print(\"Classification report - SVM :\\n \", class_report_SVM)\n",
    "print(\"Confusion matrix - SVM :\\n \", conf_matrix_SVM)"
   ]
  },
  {
   "cell_type": "code",
   "execution_count": 26,
   "metadata": {},
   "outputs": [
    {
     "name": "stdout",
     "output_type": "stream",
     "text": [
      "Accuracy score - Random Forest :  0.5053664520085863\n",
      "Classification report - Random Forest :\n",
      "                precision    recall  f1-score   support\n",
      "\n",
      "           0       0.59      0.51      0.55     11480\n",
      "           1       0.42      0.49      0.45      8086\n",
      "\n",
      "    accuracy                           0.51     19566\n",
      "   macro avg       0.50      0.50      0.50     19566\n",
      "weighted avg       0.52      0.51      0.51     19566\n",
      "\n",
      "Confusion matrix - Random Forest :\n",
      "  [[5908 5572]\n",
      " [4106 3980]]\n"
     ]
    }
   ],
   "source": [
    "################ Random Forest #########################################################################################\n",
    "y_pred_randomF = best_randomF_model.predict(X_co)\n",
    "accuracy_randomF = accuracy_score(y_co, y_pred_randomF.round())\n",
    "class_report_randomF = classification_report(y_co, y_pred_randomF.round())\n",
    "conf_matrix_randomF = confusion_matrix(y_co, y_pred_randomF.round())\n",
    "\n",
    "print(\"Accuracy score - Random Forest : \", accuracy_randomF)\n",
    "print(\"Classification report - Random Forest :\\n \", class_report_randomF)\n",
    "print(\"Confusion matrix - Random Forest :\\n \", conf_matrix_randomF)"
   ]
  },
  {
   "cell_type": "code",
   "execution_count": 27,
   "metadata": {},
   "outputs": [
    {
     "name": "stdout",
     "output_type": "stream",
     "text": [
      "Accuracy score - Ada Boost :  0.5022487989369314\n",
      "Classification report - Ada Boost :\n",
      "                precision    recall  f1-score   support\n",
      "\n",
      "           0       0.59      0.50      0.54     11480\n",
      "           1       0.42      0.51      0.46      8086\n",
      "\n",
      "    accuracy                           0.50     19566\n",
      "   macro avg       0.50      0.50      0.50     19566\n",
      "weighted avg       0.52      0.50      0.51     19566\n",
      "\n",
      "Confusion matrix - Ada Boost :\n",
      "  [[5737 5743]\n",
      " [3996 4090]]\n"
     ]
    }
   ],
   "source": [
    "################ Ada Boost #############################################################################################\n",
    "y_pred_adaBoost = best_adaBoost_model.predict(X_co)\n",
    "accuracy_adaBoost = accuracy_score(y_co, y_pred_adaBoost.round())\n",
    "class_report_adaBoost = classification_report(y_co, y_pred_adaBoost.round())\n",
    "conf_matrix_adaBoost = confusion_matrix(y_co, y_pred_adaBoost.round())\n",
    "\n",
    "print(\"Accuracy score - Ada Boost : \", accuracy_adaBoost)\n",
    "print(\"Classification report - Ada Boost :\\n \", class_report_adaBoost)\n",
    "print(\"Confusion matrix - Ada Boost :\\n \", conf_matrix_adaBoost)"
   ]
  },
  {
   "cell_type": "code",
   "execution_count": 28,
   "metadata": {},
   "outputs": [
    {
     "name": "stdout",
     "output_type": "stream",
     "text": [
      "Accuracy score - Gradient Boosting :  0.5033220893386486\n",
      "Classification report - Gradient Boosting :\n",
      "                precision    recall  f1-score   support\n",
      "\n",
      "           0       0.59      0.51      0.54     11480\n",
      "           1       0.42      0.50      0.45      8086\n",
      "\n",
      "    accuracy                           0.50     19566\n",
      "   macro avg       0.50      0.50      0.50     19566\n",
      "weighted avg       0.52      0.50      0.51     19566\n",
      "\n",
      "Confusion matrix - Gradient Boosting :\n",
      "  [[5814 5666]\n",
      " [4052 4034]]\n"
     ]
    }
   ],
   "source": [
    "################ Gradient Boost #########################################################################################\n",
    "y_pred_Gradient_Boost = best_GradientBoost_model.predict(X_co)\n",
    "accuracy_Gradient_Boost = accuracy_score(y_co, y_pred_Gradient_Boost.round())\n",
    "class_report_Gradient_Boost = classification_report(y_co, y_pred_Gradient_Boost.round())\n",
    "conf_matrix_Gradient_Boost = confusion_matrix(y_co, y_pred_Gradient_Boost.round())\n",
    "\n",
    "print(\"Accuracy score - Gradient Boosting : \", accuracy_Gradient_Boost)\n",
    "print(\"Classification report - Gradient Boosting :\\n \", class_report_Gradient_Boost)\n",
    "print(\"Confusion matrix - Gradient Boosting :\\n \", conf_matrix_Gradient_Boost)"
   ]
  },
  {
   "cell_type": "code",
   "execution_count": 29,
   "metadata": {},
   "outputs": [
    {
     "data": {
      "text/html": [
       "<div>\n",
       "<style scoped>\n",
       "    .dataframe tbody tr th:only-of-type {\n",
       "        vertical-align: middle;\n",
       "    }\n",
       "\n",
       "    .dataframe tbody tr th {\n",
       "        vertical-align: top;\n",
       "    }\n",
       "\n",
       "    .dataframe thead th {\n",
       "        text-align: right;\n",
       "    }\n",
       "</style>\n",
       "<table border=\"1\" class=\"dataframe\">\n",
       "  <thead>\n",
       "    <tr style=\"text-align: right;\">\n",
       "      <th></th>\n",
       "      <th>AGEP</th>\n",
       "      <th>COW</th>\n",
       "      <th>SCHL</th>\n",
       "      <th>MAR</th>\n",
       "      <th>OCCP</th>\n",
       "      <th>POBP</th>\n",
       "      <th>RELP</th>\n",
       "      <th>WKHP</th>\n",
       "      <th>SEX</th>\n",
       "      <th>RAC1P</th>\n",
       "    </tr>\n",
       "  </thead>\n",
       "  <tbody>\n",
       "    <tr>\n",
       "      <th>5051</th>\n",
       "      <td>57.0</td>\n",
       "      <td>1.0</td>\n",
       "      <td>16.0</td>\n",
       "      <td>1.0</td>\n",
       "      <td>7810.0</td>\n",
       "      <td>303.0</td>\n",
       "      <td>0.0</td>\n",
       "      <td>40.0</td>\n",
       "      <td>1.0</td>\n",
       "      <td>1.0</td>\n",
       "    </tr>\n",
       "    <tr>\n",
       "      <th>9180</th>\n",
       "      <td>39.0</td>\n",
       "      <td>1.0</td>\n",
       "      <td>21.0</td>\n",
       "      <td>1.0</td>\n",
       "      <td>4600.0</td>\n",
       "      <td>19.0</td>\n",
       "      <td>0.0</td>\n",
       "      <td>35.0</td>\n",
       "      <td>2.0</td>\n",
       "      <td>1.0</td>\n",
       "    </tr>\n",
       "    <tr>\n",
       "      <th>5547</th>\n",
       "      <td>59.0</td>\n",
       "      <td>1.0</td>\n",
       "      <td>20.0</td>\n",
       "      <td>1.0</td>\n",
       "      <td>2300.0</td>\n",
       "      <td>19.0</td>\n",
       "      <td>0.0</td>\n",
       "      <td>40.0</td>\n",
       "      <td>2.0</td>\n",
       "      <td>1.0</td>\n",
       "    </tr>\n",
       "    <tr>\n",
       "      <th>9040</th>\n",
       "      <td>47.0</td>\n",
       "      <td>3.0</td>\n",
       "      <td>16.0</td>\n",
       "      <td>3.0</td>\n",
       "      <td>9620.0</td>\n",
       "      <td>31.0</td>\n",
       "      <td>0.0</td>\n",
       "      <td>35.0</td>\n",
       "      <td>1.0</td>\n",
       "      <td>1.0</td>\n",
       "    </tr>\n",
       "    <tr>\n",
       "      <th>6025</th>\n",
       "      <td>36.0</td>\n",
       "      <td>4.0</td>\n",
       "      <td>18.0</td>\n",
       "      <td>5.0</td>\n",
       "      <td>3802.0</td>\n",
       "      <td>31.0</td>\n",
       "      <td>15.0</td>\n",
       "      <td>50.0</td>\n",
       "      <td>1.0</td>\n",
       "      <td>1.0</td>\n",
       "    </tr>\n",
       "  </tbody>\n",
       "</table>\n",
       "</div>"
      ],
      "text/plain": [
       "      AGEP  COW  SCHL  MAR    OCCP   POBP  RELP  WKHP  SEX  RAC1P\n",
       "5051  57.0  1.0  16.0  1.0  7810.0  303.0   0.0  40.0  1.0    1.0\n",
       "9180  39.0  1.0  21.0  1.0  4600.0   19.0   0.0  35.0  2.0    1.0\n",
       "5547  59.0  1.0  20.0  1.0  2300.0   19.0   0.0  40.0  2.0    1.0\n",
       "9040  47.0  3.0  16.0  3.0  9620.0   31.0   0.0  35.0  1.0    1.0\n",
       "6025  36.0  4.0  18.0  5.0  3802.0   31.0  15.0  50.0  1.0    1.0"
      ]
     },
     "execution_count": 29,
     "metadata": {},
     "output_type": "execute_result"
    }
   ],
   "source": [
    "# Nevada\n",
    "\n",
    "X_ne = pd.read_csv(\"acsincome_ne_allfeaturesTP2.csv\")\n",
    "y_ne = pd.read_csv(\"acsincome_ne_labelTP2.csv\")\n",
    "\n",
    "X_ne, y_ne = shuffle(X_ne, y_ne, random_state=1)\n",
    "\n",
    "# only use the first N samples to limit training time\n",
    "num_samples_ = int(len(X_ne)*0.1)\n",
    "X_ne, y_ne = X_ne[:num_samples], y_ne[:num_samples]\n",
    "\n",
    "# Standrize the data\n",
    "scaler_ne = StandardScaler()\n",
    "scaler_ne.fit_transform(X_ne)\n",
    "\n",
    "X_ne.head()"
   ]
  },
  {
   "cell_type": "code",
   "execution_count": 30,
   "metadata": {},
   "outputs": [
    {
     "name": "stdout",
     "output_type": "stream",
     "text": [
      "Accuracy score - SVM :  0.6989337042188224\n",
      "Classification report - SVM :\n",
      "                precision    recall  f1-score   support\n",
      "\n",
      "           0       0.77      0.81      0.79      7417\n",
      "           1       0.52      0.46      0.49      3368\n",
      "\n",
      "    accuracy                           0.70     10785\n",
      "   macro avg       0.64      0.63      0.64     10785\n",
      "weighted avg       0.69      0.70      0.69     10785\n",
      "\n",
      "Confusion matrix - SVM :\n",
      "  [[5975 1442]\n",
      " [1805 1563]]\n"
     ]
    }
   ],
   "source": [
    "################# SVM ##################################################################################################\n",
    "y_pred_SVM = best_SVM_model.predict(X_ne)\n",
    "accuracy_SVM = accuracy_score(y_ne, y_pred_SVM.round())\n",
    "class_report_SVM = classification_report(y_ne, y_pred_SVM.round())\n",
    "conf_matrix_SVM = confusion_matrix(y_ne, y_pred_SVM.round())\n",
    "\n",
    "print(\"Accuracy score - SVM : \", accuracy_SVM)\n",
    "print(\"Classification report - SVM :\\n \", class_report_SVM)\n",
    "print(\"Confusion matrix - SVM :\\n \", conf_matrix_SVM)"
   ]
  },
  {
   "cell_type": "code",
   "execution_count": 31,
   "metadata": {},
   "outputs": [
    {
     "name": "stdout",
     "output_type": "stream",
     "text": [
      "Accuracy score - Random Forest :  0.7368567454798332\n",
      "Classification report - Random Forest :\n",
      "                precision    recall  f1-score   support\n",
      "\n",
      "           0       0.90      0.69      0.78      7417\n",
      "           1       0.55      0.83      0.66      3368\n",
      "\n",
      "    accuracy                           0.74     10785\n",
      "   macro avg       0.73      0.76      0.72     10785\n",
      "weighted avg       0.79      0.74      0.75     10785\n",
      "\n",
      "Confusion matrix - Random Forest :\n",
      "  [[5151 2266]\n",
      " [ 572 2796]]\n"
     ]
    }
   ],
   "source": [
    "################ Random Forest #########################################################################################\n",
    "y_pred_randomF = best_randomF_model.predict(X_ne)\n",
    "accuracy_randomF = accuracy_score(y_ne, y_pred_randomF.round())\n",
    "class_report_randomF = classification_report(y_ne, y_pred_randomF.round())\n",
    "conf_matrix_randomF = confusion_matrix(y_ne, y_pred_randomF.round())\n",
    "\n",
    "print(\"Accuracy score - Random Forest : \", accuracy_randomF)\n",
    "print(\"Classification report - Random Forest :\\n \", class_report_randomF)\n",
    "print(\"Confusion matrix - Random Forest :\\n \", conf_matrix_randomF)"
   ]
  },
  {
   "cell_type": "code",
   "execution_count": 32,
   "metadata": {},
   "outputs": [
    {
     "name": "stdout",
     "output_type": "stream",
     "text": [
      "Accuracy score - Ada Boost :  0.7389893370421883\n",
      "Classification report - Ada Boost :\n",
      "                precision    recall  f1-score   support\n",
      "\n",
      "           0       0.91      0.69      0.78      7417\n",
      "           1       0.55      0.84      0.67      3368\n",
      "\n",
      "    accuracy                           0.74     10785\n",
      "   macro avg       0.73      0.77      0.73     10785\n",
      "weighted avg       0.80      0.74      0.75     10785\n",
      "\n",
      "Confusion matrix - Ada Boost :\n",
      "  [[5127 2290]\n",
      " [ 525 2843]]\n"
     ]
    }
   ],
   "source": [
    "################ Ada Boost #############################################################################################\n",
    "y_pred_adaBoost = best_adaBoost_model.predict(X_ne)\n",
    "accuracy_adaBoost = accuracy_score(y_ne, y_pred_adaBoost.round())\n",
    "class_report_adaBoost = classification_report(y_ne, y_pred_adaBoost.round())\n",
    "conf_matrix_adaBoost = confusion_matrix(y_ne, y_pred_adaBoost.round())\n",
    "\n",
    "print(\"Accuracy score - Ada Boost : \", accuracy_adaBoost)\n",
    "print(\"Classification report - Ada Boost :\\n \", class_report_adaBoost)\n",
    "print(\"Confusion matrix - Ada Boost :\\n \", conf_matrix_adaBoost)"
   ]
  },
  {
   "cell_type": "code",
   "execution_count": 33,
   "metadata": {},
   "outputs": [
    {
     "name": "stdout",
     "output_type": "stream",
     "text": [
      "Accuracy score - Gradient Boosting :  0.7468706536856745\n",
      "Classification report - Gradient Boosting :\n",
      "                precision    recall  f1-score   support\n",
      "\n",
      "           0       0.90      0.71      0.79      7417\n",
      "           1       0.56      0.83      0.67      3368\n",
      "\n",
      "    accuracy                           0.75     10785\n",
      "   macro avg       0.73      0.77      0.73     10785\n",
      "weighted avg       0.80      0.75      0.76     10785\n",
      "\n",
      "Confusion matrix - Gradient Boosting :\n",
      "  [[5260 2157]\n",
      " [ 573 2795]]\n"
     ]
    }
   ],
   "source": [
    "################ Gradient Boost #########################################################################################\n",
    "y_pred_Gradient_Boost = best_GradientBoost_model.predict(X_ne)\n",
    "accuracy_Gradient_Boost = accuracy_score(y_ne, y_pred_Gradient_Boost.round())\n",
    "class_report_Gradient_Boost = classification_report(y_ne, y_pred_Gradient_Boost.round())\n",
    "conf_matrix_Gradient_Boost = confusion_matrix(y_ne, y_pred_Gradient_Boost.round())\n",
    "\n",
    "print(\"Accuracy score - Gradient Boosting : \", accuracy_Gradient_Boost)\n",
    "print(\"Classification report - Gradient Boosting :\\n \", class_report_Gradient_Boost)\n",
    "print(\"Confusion matrix - Gradient Boosting :\\n \", conf_matrix_Gradient_Boost)"
   ]
  }
 ],
 "metadata": {
  "kernelspec": {
   "display_name": "supervisedML",
   "language": "python",
   "name": "python3"
  },
  "language_info": {
   "codemirror_mode": {
    "name": "ipython",
    "version": 3
   },
   "file_extension": ".py",
   "mimetype": "text/x-python",
   "name": "python",
   "nbconvert_exporter": "python",
   "pygments_lexer": "ipython3",
   "version": "3.11.5"
  }
 },
 "nbformat": 4,
 "nbformat_minor": 2
}
