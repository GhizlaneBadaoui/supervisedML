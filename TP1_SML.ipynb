{
 "cells": [
  {
   "cell_type": "code",
   "execution_count": 1,
   "metadata": {},
   "outputs": [],
   "source": [
    "import pandas as pd\n",
    "import numpy as np\n",
    "from sklearn.utils import shuffle\n",
    "from sklearn.svm import SVR\n",
    "from sklearn.model_selection import train_test_split, cross_val_score\n",
    "from sklearn.preprocessing import StandardScaler\n",
    "from sklearn.ensemble import RandomForestClassifier, AdaBoostClassifier, GradientBoostingClassifier\n",
    "\n",
    "features_path = \"acsincome_ca_features.csv\"\n",
    "label_path = \"acsincome_ca_labels.csv\"\n",
    "\n",
    "X = pd.read_csv(features_path, index_col=False, sep=\",\")\n",
    "y = pd.read_csv(label_path, index_col = False, sep=\",\")"
   ]
  },
  {
   "cell_type": "code",
   "execution_count": 2,
   "metadata": {},
   "outputs": [
    {
     "name": "stdout",
     "output_type": "stream",
     "text": [
      "(195665, 10)\n",
      "(195665, 1)\n",
      "(19566, 10)\n",
      "(19566, 1)\n"
     ]
    }
   ],
   "source": [
    "X, y = shuffle(X, y, random_state=42)\n",
    "\n",
    "print(X.shape)\n",
    "print(y.shape)\n",
    "# only use the first N samples to limit training time\n",
    "num_samples = int(len(X)*0.1)\n",
    "X, y = X[:num_samples], y[:num_samples]\n",
    "\n",
    "print(X.shape)\n",
    "print(y.shape)"
   ]
  },
  {
   "cell_type": "code",
   "execution_count": 3,
   "metadata": {},
   "outputs": [],
   "source": [
    "# Standrize the data\n",
    "scaler = StandardScaler()\n",
    "scaler.fit_transform(X)\n",
    "# Split the data\n",
    "X_train, X_test, y_train, y_test = train_test_split(X,y, test_size=0.2)"
   ]
  },
  {
   "cell_type": "code",
   "execution_count": 4,
   "metadata": {},
   "outputs": [
    {
     "name": "stdout",
     "output_type": "stream",
     "text": [
      "train score SVM :  0.1012383507635225\n",
      "test score SVM :  0.13233267613378885\n"
     ]
    }
   ],
   "source": [
    "model_svm = SVR()\n",
    "model_svm.fit(X_train,y_train.values.ravel())\n",
    "print(\"train score SVM : \", model_svm.score(X_train,y_train))\n",
    "print(\"test score SVM : \", model_svm.score(X_test,y_test))"
   ]
  },
  {
   "cell_type": "code",
   "execution_count": 5,
   "metadata": {},
   "outputs": [
    {
     "name": "stdout",
     "output_type": "stream",
     "text": [
      "train score random forest :  0.7745336059289548\n",
      "test score random forest :  0.7835973428717424\n"
     ]
    }
   ],
   "source": [
    "model_randomF = RandomForestClassifier(max_depth=2, random_state=0)\n",
    "model_randomF.fit(X_train,y_train.values.ravel())\n",
    "print(\"train score random forest : \", model_randomF.score(X_train,y_train))\n",
    "print(\"test score random forest : \", model_randomF.score(X_test,y_test))"
   ]
  },
  {
   "cell_type": "code",
   "execution_count": 6,
   "metadata": {},
   "outputs": [
    {
     "name": "stdout",
     "output_type": "stream",
     "text": [
      "train score Ada Boost :  0.81235624840276\n",
      "test score Ada Boost :  0.815278487480838\n"
     ]
    }
   ],
   "source": [
    "model_adaBoost = AdaBoostClassifier(n_estimators=100, random_state=0)\n",
    "model_adaBoost.fit(X_train,y_train.values.ravel())\n",
    "print(\"train score Ada Boost : \", model_adaBoost.score(X_train,y_train))\n",
    "print(\"test score Ada Boost : \", model_adaBoost.score(X_test,y_test))"
   ]
  },
  {
   "cell_type": "code",
   "execution_count": 7,
   "metadata": {},
   "outputs": [
    {
     "name": "stdout",
     "output_type": "stream",
     "text": [
      "train score Gradient Boosting :  0.8148479427549195\n",
      "test score Gradient Boosting :  0.8155339805825242\n"
     ]
    }
   ],
   "source": [
    "model_GradientBoosting = GradientBoostingClassifier(n_estimators=100, learning_rate=1.0, max_depth=1, random_state=0)\n",
    "model_GradientBoosting.fit(X_train,y_train.values.ravel())\n",
    "print(\"train score Gradient Boosting : \", model_GradientBoosting.score(X_train,y_train))\n",
    "print(\"test score Gradient Boosting : \", model_GradientBoosting.score(X_test,y_test))"
   ]
  },
  {
   "cell_type": "code",
   "execution_count": 8,
   "metadata": {},
   "outputs": [
    {
     "name": "stdout",
     "output_type": "stream",
     "text": [
      "SVM \n",
      " 0.09500540344935424\n",
      "Random Forest \n",
      " 0.7747249549236074\n",
      "Ada Boost \n",
      " 0.8097365008066302\n",
      "Gradient Boosting \n",
      " 0.8075003239786002\n"
     ]
    }
   ],
   "source": [
    "print(\"SVM \\n\",cross_val_score(SVR(), X_train,y_train.values.ravel(),cv=5).mean())\n",
    "print(\"Random Forest \\n\",cross_val_score(RandomForestClassifier(max_depth=2, random_state=0), X_train,y_train.values.ravel(),cv=5).mean())\n",
    "print(\"Ada Boost \\n\",cross_val_score(AdaBoostClassifier(n_estimators=100, random_state=0), X_train,y_train.values.ravel(),cv=5).mean())\n",
    "print(\"Gradient Boosting \\n\",cross_val_score(GradientBoostingClassifier(n_estimators=100, learning_rate=1.0, max_depth=1, random_state=0), X_train,y_train.values.ravel(),cv=5).mean())"
   ]
  }
 ],
 "metadata": {
  "kernelspec": {
   "display_name": "Python (CPLEX)",
   "language": "python",
   "name": "cplex"
  },
  "language_info": {
   "codemirror_mode": {
    "name": "ipython",
    "version": 3
   },
   "file_extension": ".py",
   "mimetype": "text/x-python",
   "name": "python",
   "nbconvert_exporter": "python",
   "pygments_lexer": "ipython3",
   "version": "3.11.3"
  }
 },
 "nbformat": 4,
 "nbformat_minor": 2
}
